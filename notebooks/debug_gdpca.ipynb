{
 "cells": [
  {
   "cell_type": "code",
   "execution_count": 1,
   "metadata": {},
   "outputs": [
    {
     "name": "stderr",
     "output_type": "stream",
     "text": [
      "R.matlab v3.6.1 (2016-10-19) successfully loaded. See ?R.matlab for help.\n",
      "\n",
      "Attaching package: ‘R.matlab’\n",
      "\n",
      "The following objects are masked from ‘package:base’:\n",
      "\n",
      "    getOption, isOpen\n",
      "\n"
     ]
    }
   ],
   "source": [
    "library(R.matlab)\n",
    "library(ggplot2)\n",
    "library(pracma)"
   ]
  },
  {
   "cell_type": "code",
   "execution_count": 28,
   "metadata": {
    "collapsed": true
   },
   "outputs": [],
   "source": [
    "# R code of package 'mnormt' \n",
    "# Author: Adelchi Azzalini (University of Padua, Italy) \n",
    "\n",
    "dmnorm <- function(x, mean=rep(0,d), varcov, log=FALSE)\n",
    "{\n",
    "  d <- if(is.matrix(varcov)) ncol(varcov) else 1\n",
    "  if(d==1) return(dnorm(x, mean, sqrt(varcov), log=log))\n",
    "  x <- if (is.vector(x)) t(matrix(x)) else data.matrix(x)\n",
    "  if(ncol(x) != d) stop(\"mismatch of dimensions of 'x' and 'varcov'\")\n",
    "  if(is.matrix(mean)) { if ((nrow(x) != nrow(mean)) || (ncol(mean) != d))\n",
    "      stop(\"mismatch of dimensions of 'x' and 'mean'\") }\n",
    "  if(is.vector(mean)) mean <- outer(rep(1, nrow(x)), as.vector(matrix(mean,d)))\n",
    "  X  <- t(x - mean)\n",
    "  conc <- pd.solve(varcov, log.det=TRUE)\n",
    "  Q <- colSums((conc %*% X)* X)\n",
    "  log.det <- attr(conc, \"log.det\")\n",
    "  logPDF <- as.vector(Q + d*logb(2*pi) + log.det)/(-2)\n",
    "  if(log) logPDF else exp(logPDF)\n",
    "}\n",
    "\n",
    "rmnorm <- function(n=1, mean=rep(0,d), varcov, sqrt=NULL)\n",
    " {\n",
    "  sqrt.varcov <- if(is.null(sqrt)) chol(varcov) else sqrt\n",
    "  d <- if(is.matrix(sqrt.varcov)) ncol(sqrt.varcov) else 1\n",
    "  mean <- outer(rep(1,n), as.vector(matrix(mean,d)))\n",
    "  drop(mean + t(matrix(rnorm(n*d), d, n)) %*% sqrt.varcov)\n",
    " }\n",
    "\n",
    "\n",
    "pmnorm <- function(x, mean=rep(0, d), varcov, ...) {\n",
    "  d <- NCOL(varcov)\n",
    "  x <- if (is.vector(x)) matrix(x, 1, d) else data.matrix(x)\n",
    "  n <- nrow(x)\n",
    "  if(is.vector(mean)) mean <- outer(rep(1, n), as.vector(matrix(mean,d)))\n",
    "  if(d == 1) p <- as.vector(pnorm(x, mean, sqrt(varcov))) else {\n",
    "    pv <- numeric(n)\n",
    "    for (j in 1:n) p <- pv[j] <- if(d == 2)\n",
    "           biv.nt.prob(0, lower=rep(-Inf, 2), upper=x[j,], mean[j,], varcov)   \n",
    "      else sadmvn(lower=rep(-Inf, d), upper=x[j,], mean[j,], varcov, ...) \n",
    "    if(n > 1) p <- pv \n",
    "    }\n",
    "  return(p)  \n",
    "  }\n",
    "\n",
    "sadmvn <- function(lower, upper, mean, varcov,  \n",
    "                   maxpts=2000*d, abseps=1e-6, releps=0)\n",
    "{\n",
    "  if(any(lower > upper)) stop(\"lower>upper integration limits\")\n",
    "  if(any(lower == upper)) return(0)\n",
    "  d <- as.integer(if(is.matrix(varcov)) ncol(varcov) else 1)\n",
    "  varcov <- matrix(varcov, d, d)\n",
    "  sd  <- sqrt(diag(varcov))\n",
    "  rho <- cov2cor(varcov)\n",
    "  lower <- as.double((lower-mean)/sd)\n",
    "  upper <- as.double((upper-mean)/sd)\n",
    "  if(d == 1) return(pnorm(upper) - pnorm(lower))\n",
    "  infin <- rep(2,d)\n",
    "  infin <- replace(infin, (upper == Inf) & (lower > -Inf), 1)\n",
    "  infin <- replace(infin, (upper < Inf) & (lower == -Inf), 0)\n",
    "  infin <- replace(infin, (upper == Inf) & (lower == -Inf), -1)\n",
    "  infin <- as.integer(infin)\n",
    "  if(any(infin == -1)) {\n",
    "    if(all(infin == -1)) return(1)\n",
    "    k <- which(infin != -1)\n",
    "    d <- length(k)\n",
    "    lower <- lower[k]\n",
    "    upper <- upper[k]\n",
    "    if(d == 1) return(pnorm(upper) - pnorm(lower))\n",
    "    rho <- rho[k, k]\n",
    "    infin <- infin[k]\n",
    "    if(d == 2) return(biv.nt.prob(0, lower, upper, rep(0,2), rho))\n",
    "    }\n",
    "  lower <- replace(lower, lower == -Inf, 0)\n",
    "  upper <- replace(upper, upper == Inf, 0)\n",
    "  correl <- as.double(rho[upper.tri(rho, diag=FALSE)])\n",
    "  maxpts <- as.integer(maxpts)\n",
    "  abseps <- as.double(abseps)\n",
    "  releps <- as.double(releps)\n",
    "  error  <- as.double(0)\n",
    "  value  <- as.double(0)\n",
    "  inform <- as.integer(0)\n",
    "  result <- .Fortran(\"sadmvn\", d, lower, upper, infin, correl, maxpts,\n",
    "               abseps, releps, error, value, inform, PACKAGE=\"mnormt\")\n",
    "  prob <- result[[10]]\n",
    "  attr(prob,\"error\")  <- result[[9]]\n",
    "  attr(prob,\"status\") <- switch(1 + result[[11]], \n",
    "                \"normal completion\", \"accuracy non achieved\", \"oversize\")\n",
    "  return(prob)\n",
    "}\n",
    "\n",
    "#----\n",
    "\n",
    "dmt <- function (x, mean=rep(0,d), S, df = Inf, log = FALSE) \n",
    "{\n",
    "  if (df == Inf)  return(dmnorm(x, mean, S, log = log))\n",
    "  d <- if(is.matrix(S)) ncol(S) else 1\n",
    "  if (d==1) {\n",
    "    y <- dt((x-mean)/sqrt(S), df=df, log=log)\n",
    "    if(log) y <- (y - 0.5*logb(S)) else y <- y/sqrt(S)\n",
    "    return(y)\n",
    "    }\n",
    "  x <- if (is.vector(x)) t(matrix(x)) else data.matrix(x)\n",
    "  if (ncol(x) != d) stop(\"mismatch of dimensions of 'x' and 'varcov'\")\n",
    "  if (is.matrix(mean)) {if ((nrow(x) != nrow(mean)) || (ncol(mean) != d))\n",
    "      stop(\"mismatch of dimensions of 'x' and 'mean'\") }\n",
    "  if(is.vector(mean)) mean <- outer(rep(1, nrow(x)), as.vector(matrix(mean,d)))\n",
    "  X  <- t(x - mean)\n",
    "  S.inv <- pd.solve(S, log.det=TRUE)\n",
    "  Q <- colSums((S.inv %*% X) * X)\n",
    "  logDet <- attr(S.inv, \"log.det\")\n",
    "  logPDF <- (lgamma((df + d)/2) - 0.5 * (d * logb(pi * df) + logDet)\n",
    "             - lgamma(df/2) - 0.5 * (df + d) * logb(1 + Q/df))\n",
    "  if(log) logPDF else exp(logPDF)\n",
    "}\n",
    "\n",
    "\n",
    "rmt <- function(n=1, mean=rep(0,d), S, df=Inf, sqrt=NULL)\n",
    "{ \n",
    "  sqrt.S <- if(is.null(sqrt)) chol(S) else sqrt\n",
    "  d <- if(is.matrix(sqrt.S)) ncol(sqrt.S) else 1 \n",
    "  x <- if(df==Inf) 1 else rchisq(n, df)/df\n",
    "  z <- rmnorm(n, rep(0, d), sqrt=sqrt.S)\n",
    "  mean <- outer(rep(1, n), as.vector(matrix(mean,d)))\n",
    "  drop(mean + z/sqrt(x))\n",
    "}\n",
    " \n",
    "\n",
    "\n",
    "pmt <- function(x, mean=rep(0, d), S, df=Inf, ...){\n",
    "  d <- NCOL(S)\n",
    "  x <- if(is.vector(x)) matrix(x, 1, d) else data.matrix(x)\n",
    "  n <- nrow(x)\n",
    "  if(is.vector(mean)) mean <- outer(rep(1, n), as.vector(matrix(mean,d)))\n",
    "  if(d == 1) p <- as.vector(pt((x-mean)/sqrt(S), df=df)) else {\n",
    "    pv <- numeric(n)\n",
    "    for (j in 1:n) p <- pv[j] <- if(d == 2)\n",
    "           biv.nt.prob(df, lower=rep(-Inf, 2), upper=x[j,], mean[j,], S)   \n",
    "      else sadmvt(df, lower=rep(-Inf, d), upper=x[j,], mean[j,], S, ...)\n",
    "     if(n > 1) p <- pv    \n",
    "     }\n",
    "  return(p)  \n",
    "  }\n",
    "   \n",
    "\n",
    "\n",
    "sadmvt <- function(df, lower, upper, mean, S, \n",
    "                   maxpts=2000*d, abseps=1e-6, releps=0)\n",
    "{\n",
    "  if(df == Inf) return(sadmvn(lower, upper, mean, S, maxpts, abseps, releps))\n",
    "  if(any(lower > upper)) stop(\"lower>upper integration limits\")\n",
    "  if(any(lower == upper)) return(0)\n",
    "  if(round(df) != df) warning(\"non integer df is rounded to integer\") \n",
    "  df <- as.integer(round(df))\n",
    "  d  <- as.integer(if(is.matrix(S)) ncol(S) else 1)\n",
    "  S  <- matrix(S, d, d)\n",
    "  sd  <- sqrt(diag(S))\n",
    "  rho <- cov2cor(S)\n",
    "  lower <- as.double((lower-mean)/sd)\n",
    "  upper <- as.double((upper-mean)/sd)\n",
    "  if(d == 1) return(pt(upper, df) - pt(lower, df))\n",
    "  infin <- rep(2,d)\n",
    "  infin <- replace(infin, (upper == Inf) & (lower > -Inf), 1)\n",
    "  infin <- replace(infin, (upper < Inf) & (lower == -Inf), 0)\n",
    "  infin <- replace(infin, (upper == Inf) & (lower == -Inf), -1)\n",
    "  infin <- as.integer(infin)\n",
    "  if(any(infin == -1)) {\n",
    "    if(all(infin == -1)) return(1)\n",
    "    k <- which(infin != -1)\n",
    "    d <- length(k)\n",
    "    lower <- lower[k]\n",
    "    upper <- upper[k]\n",
    "    if(d == 1) return(pt(upper, df=df) - pt(lower, df=df))\n",
    "    rho <- rho[k, k]\n",
    "    infin <- infin[k]\n",
    "    if(d == 2) return(biv.nt.prob(df, lower, upper, rep(0,2), rho))\n",
    "    }\n",
    "  lower <- replace(lower, lower == -Inf, 0)\n",
    "  upper <- replace(upper, upper == Inf, 0)\n",
    "  correl <- rho[upper.tri(rho, diag=FALSE)]\n",
    "  maxpts <- as.integer(maxpts)\n",
    "  abseps <- as.double(abseps)\n",
    "  releps <- as.double(releps)\n",
    "  error  <- as.double(0)\n",
    "  value  <- as.double(0)\n",
    "  inform <- as.integer(0)\n",
    "  result <- .Fortran(\"sadmvt\", d, df, lower, upper, infin, correl, maxpts,\n",
    "                   abseps, releps, error, value, inform, PACKAGE=\"mnormt\")\n",
    "  prob <- result[[11]]\n",
    "  attr(prob,\"error\")  <- result[[10]]\n",
    "  attr(prob,\"status\") <- switch(1+result[[12]], \n",
    "                \"normal completion\", \"accuracy non achieved\", \"oversize\")\n",
    "  return(prob)\n",
    "}\n",
    "\n",
    "\n",
    "biv.nt.prob <- function(df, lower, upper, mean, S){\n",
    "  if(any(dim(S) != c(2,2))) stop(\"dimensions mismatch\")\n",
    "  if(length(mean) != 2) stop(\"dimensions mismatch\") \n",
    "  if(round(df) != df) warning(\"non integer df is rounded to integer\") \n",
    "  nu <- if(df<Inf) as.integer(round(df)) else 0\n",
    "  if(df==Inf) nu <- 0\n",
    "  sd <- sqrt(diag(S))\n",
    "  rho <- cov2cor(S)[1,2]\n",
    "  lower <- as.double((lower-mean)/sd)\n",
    "  upper <- as.double((upper-mean)/sd)\n",
    "  if(any(lower > upper)) stop(\"lower>upper integration limits\")\n",
    "  if(any(lower == upper)) return(0)\n",
    "  infin <- c(2,2)\n",
    "  infin <- replace(infin, (upper == Inf) & (lower > -Inf), 1)\n",
    "  infin <- replace(infin, (upper < Inf) & (lower == -Inf), 0)\n",
    "  infin <- replace(infin, (upper == Inf) & (lower == -Inf), -1)\n",
    "  infin <- as.integer(infin)\n",
    "  if(any(infin == -1)) {\n",
    "    if(all(infin == -1)) return(1)\n",
    "    k <- which(infin != -1)\n",
    "    return(pt(upper[k], df=df) - pt(lower[k], df=df))\n",
    "    }\n",
    "  lower <- replace(lower, lower == -Inf, 0)\n",
    "  upper <- replace(upper, upper == Inf, 0)\n",
    "  rho   <- as.double(rho)\n",
    "  prob  <- as.double(0)\n",
    "  a <- .Fortran(\"smvbvt\", prob, nu, lower, upper, infin, rho, PACKAGE=\"mnormt\")\n",
    "  return(a[[1]])\n",
    "  } \n",
    " \n",
    "pd.solve <- function(x, silent=FALSE, log.det=FALSE)\n",
    "{\n",
    "  if(is.null(x)) return(NULL)\n",
    "  if(any(is.na(x)))\n",
    "    {if(silent) return (NULL) else stop(\"NA's in x\") } \n",
    "  if(length(x) == 1) x <- as.matrix(x)\n",
    "  if(!is.matrix(x)) \n",
    "    {if(silent) return(NULL) else stop(\"x is not a matrix\")}\n",
    "  if(max(abs(x - t(x))) > .Machine$double.eps) \n",
    "    {if(silent) return (NULL) else stop(\"x appears to be not symmetric\") } \n",
    "  x <- (x + t(x))/2\n",
    "  u <- try(chol(x, pivot = FALSE), silent = silent)\n",
    "  if(class(u) == \"try-error\") {\n",
    "     if(silent) return(NULL) else\n",
    "       stop(\"x appears to be not positive definite\") }\n",
    "  inv <- chol2inv(u)\n",
    "  if(log.det) attr(inv, \"log.det\") <- 2 * sum(log(diag(u)))\n",
    "  dimnames(inv) <- rev(dimnames(x))\n",
    "  return(inv)\n",
    "}\n",
    "\n",
    ".onLoad <- function(library, pkg)\n",
    "{ \n",
    "   library.dynam(\"mnormt\", pkg, library)\n",
    "   invisible()\n",
    "}"
   ]
  },
  {
   "cell_type": "code",
   "execution_count": 49,
   "metadata": {
    "collapsed": true
   },
   "outputs": [],
   "source": [
    "init_f <- function(Z, k){\n",
    "  n = ncol(Z)\n",
    "  f_init = matrix(0, n + k, 1)\n",
    "  Z_t = t(Z)\n",
    "\n",
    "  mzt = rowMeans(Z_t)\n",
    "  mzt = as.matrix(mzt)\n",
    "\n",
    "  Z_new = matrix(0, dim(Z_t)[1], dim(Z_t)[2])\n",
    "\n",
    "  for(i in 1:dim(Z_t)[2]) {\n",
    "    Z_new[, i] = Z_t[, i] - mzt\n",
    "  }\n",
    "\n",
    "  #z_new = sweep(z, 2, rowMeans(z), \"-\")\n",
    "  Z_svd = svd(Z_new)\n",
    "  f_init[1:n, ] = Z_new %*% as.matrix(Z_svd$v[, 1])\n",
    "\n",
    "  f_init = f_init/sd(f_init)\n",
    "  return (f_init)\n",
    "}"
   ]
  },
  {
   "cell_type": "code",
   "execution_count": 3,
   "metadata": {
    "collapsed": true
   },
   "outputs": [],
   "source": [
    "run_train_step <- function(z, k, f, alpha, beta) {\n",
    "  m = nrow(z);\n",
    "  T = ncol(z);\n",
    "  ab = alpha_beta(z, f, k);\n",
    "  alpha_new = ab$alpha;\n",
    "  beta_new = ab$beta;\n",
    "  f_star = f_alpha_beta(z, k, alpha_new, beta_new);\n",
    "  f_centered = f_star -  mean(f_star);\n",
    "  f_new = sqrt(T + k) * f_centered / max(svd(f_centered)$d); ########\n",
    "  return(list(\"f_new\"=f_new, \"alpha_new\" = alpha_new, \"beta_new\" = beta_new))\n",
    "}"
   ]
  },
  {
   "cell_type": "code",
   "execution_count": 4,
   "metadata": {
    "collapsed": true
   },
   "outputs": [],
   "source": [
    "evaluate_op <- function(z, k, f, alpha, beta){\n",
    "  loss = mean_squared_error(z, k, f, alpha, beta)\n",
    "  return (loss)\n",
    "}"
   ]
  },
  {
   "cell_type": "code",
   "execution_count": 5,
   "metadata": {
    "collapsed": true
   },
   "outputs": [],
   "source": [
    "mean_squared_error <- function(z, k, f, alpha, beta){\n",
    "  m = nrow(z);\n",
    "  T = ncol(z);\n",
    "  sum_squared_error = 0;\n",
    "  for (j in 1:m){\n",
    "    for (t in 1:T){\n",
    "      z_jt_predict = alpha[j];\n",
    "      for (i in 0:k){\n",
    "        z_jt_predict = z_jt_predict + beta[j, i + 1] * f[t + i];\n",
    "      }\n",
    "      sum_squared_error = sum_squared_error + (z[j, t] - z_jt_predict)^2;\n",
    "    }\n",
    "  }\n",
    "  err = sum_squared_error / (T * m);\n",
    "  return(err);\n",
    "}"
   ]
  },
  {
   "cell_type": "code",
   "execution_count": 6,
   "metadata": {
    "collapsed": true
   },
   "outputs": [],
   "source": [
    "C_alpha <- function(z_j, alpha_j, k){\n",
    "  T = ncol(z_j);\n",
    "  C = matrix(0, T + k, k + 1);\n",
    "  for (t in 1:(T + k)){\n",
    "    for (q in 1:(k + 1)){\n",
    "      if ((q >= max(1, t - T + 1)) && (q <= min(k + 1, t))){\n",
    "        C[t, q] = z[t - q + 1] - alpha_j\n",
    "      }\n",
    "    }\n",
    "  }\n",
    "  return (C)\n",
    "}"
   ]
  },
  {
   "cell_type": "code",
   "execution_count": 7,
   "metadata": {
    "collapsed": true
   },
   "outputs": [],
   "source": [
    "D_beta <- function(beta_j, T, k) {\n",
    "  # Construct matrix D w.r.t beta_j, T, and k\n",
    "  # beta_j is a row vector of the Beta matrix\n",
    "  D = matrix(0, T+k, T+k)\n",
    "  for (t in 1:T+k) {\n",
    "    for (q in 1:T+k) {\n",
    "        if ((q >= max(t - k, 1)) && (q <= min(t + k, T + k))) {\n",
    "            for (v in max(t - k, 1):min(t, T)) {\n",
    "                D[t,q] = D[t,q] + beta_j[q-v+1] * beta[t-v+1]\n",
    "            }\n",
    "        }\n",
    "    }\n",
    "  }\n",
    "   print(D)\n",
    "  return (D)\n",
    "}"
   ]
  },
  {
   "cell_type": "code",
   "execution_count": 8,
   "metadata": {
    "collapsed": true
   },
   "outputs": [],
   "source": [
    "f_alpha_beta <- function(Z, alpha, beta, k){\n",
    "  # Get optimal f wrt Z, beta, alpha, and k\n",
    "  print(dim(beta))\n",
    "  m = nrow(Z)\n",
    "  T = ncol(Z)\n",
    "  D = matrix(0, T+k, T+k)\n",
    "  f = matrix(0, T+k, 1)\n",
    "  for (j in 1:m) {\n",
    "    D = D + D_beta(beta[j,], T, k)\n",
    "    f = f + C_alpha(Z[j,], alpha[j]) %*% beta[j,]\n",
    "  }\n",
    "  f <- ifelse(rcond(D)>1e-10, solve(D,f), pinv(D))\n",
    "  return (f)\n",
    "}\n"
   ]
  },
  {
   "cell_type": "code",
   "execution_count": 9,
   "metadata": {
    "collapsed": true
   },
   "outputs": [],
   "source": [
    "F_f <- function(Z, f, k){\n",
    "  # Gets F matrix s.t. F(f) is T x (k+2) w/ t-th row (f_t, f_t+1,...,f_t+k, 1)\n",
    "  m = nrow(Z);\n",
    "  T = ncol(Z);\n",
    "  F = matrix(0,nrow=T,ncol=k+2)\n",
    "  for (t in 1:nrow(F)){\n",
    "    F[t, ] = cbind(Conj(t(f[t:(t + k)])), 1);\n",
    "  }\n",
    "  return(F);\n",
    "}\n"
   ]
  },
  {
   "cell_type": "code",
   "execution_count": 81,
   "metadata": {
    "collapsed": true
   },
   "outputs": [],
   "source": [
    "alpha_beta <- function(Z, f, k){\n",
    "  # Find the optimal beta\n",
    "  # input: Z data matrix, f-principal components, k-leads\n",
    "  # output: beta matrix of loadings, alpha-intercepts\n",
    "  #F=F_f(Z, f, k)\n",
    "  #FtF_inv = solve(Conj(t(F)) %*% F);\n",
    "  #FtF_inv_Ft = FtF_inv %*% Conj(t(F));\n",
    "  #tmp = Z %*% Conj(t(FtF_inv_Ft));\n",
    "  #alpha = Conj(t(tmp[, k + 2]));\n",
    "  #beta = tmp[, 1:(k + 1)];\n",
    "  #res = Z - beta %*% F\n",
    "    m = nrow(Z)\n",
    "    T = ncol(Z)\n",
    "    F = F_f(Z, f, k)\n",
    "    FF = t(F) %*% F\n",
    "    FFinv = pinv(FF)\n",
    "    FFinv_Ft = FFinv %*% t(F)\n",
    "    beta = Z %*% t(FFinv_Ft)\n",
    "    #beta = Z %*% t(F) %*% t(FFinv)\n",
    "    return(beta)\n",
    "\n",
    "    \n",
    "  #return(list(\"alpha\"=alpha, \"beta\"=beta))\n",
    "}"
   ]
  },
  {
   "cell_type": "code",
   "execution_count": 11,
   "metadata": {
    "collapsed": true
   },
   "outputs": [],
   "source": [
    "run_gdpc <- function(Z, k, f_ini=NULL, tol=1e-04, maxiter=100) {\n",
    "  # Each ROW is a DIFFERENT time series\n",
    "  # run the DPC model\n",
    "  m = nrow(z);\n",
    "  T = ncol(z);\n",
    "\n",
    "\n",
    "  f = ifelse(is.null(f_ini), init_f(Z, k), f_ini)\n",
    "  alpha = NaN\n",
    "  beta = NaN\n",
    "  loss_values = matrix(0, nrow=maxiter, ncol=1)\n",
    "\n",
    "  for (train_iter in 1:train_iterations) {\n",
    "    a = run_train_step(z, k, f, alpha, beta);\n",
    "    f = a$f_new;\n",
    "    alpha = a$alpha_new;\n",
    "    beta = a$beta_new\n",
    "    loss_values[train_iter] = evaluate_op(z, k, f, alpha, beta);\n",
    "  }\n",
    "\n",
    "  ## plot result\n",
    "  #plot(loss_values, lwd = 1.5, main=\"train loss (reconstruction MSE)\", xlab = \"iteration\");\n",
    "  #print(loss_values)\n",
    "\n",
    "  #plot(f, lwd = 1.5, main = \"Factor\", xlab = \"time\" );\n",
    "  #lines(f, lty = 1)\n",
    "}"
   ]
  },
  {
   "cell_type": "code",
   "execution_count": 41,
   "metadata": {
    "collapsed": true
   },
   "outputs": [],
   "source": [
    "data = readMat('F141020-lfp-5min-1kHz.mat')"
   ]
  },
  {
   "cell_type": "code",
   "execution_count": 42,
   "metadata": {
    "collapsed": true
   },
   "outputs": [],
   "source": [
    "pre_pmcao = data$pre.pmcao\n",
    "pre_epoch1 = pre_pmcao[1:1000, ]"
   ]
  },
  {
   "cell_type": "code",
   "execution_count": 43,
   "metadata": {},
   "outputs": [
    {
     "data": {
      "text/html": [
       "<ol class=list-inline>\n",
       "\t<li>1000</li>\n",
       "\t<li>32</li>\n",
       "</ol>\n"
      ],
      "text/latex": [
       "\\begin{enumerate*}\n",
       "\\item 1000\n",
       "\\item 32\n",
       "\\end{enumerate*}\n"
      ],
      "text/markdown": [
       "1. 1000\n",
       "2. 32\n",
       "\n",
       "\n"
      ],
      "text/plain": [
       "[1] 1000   32"
      ]
     },
     "metadata": {},
     "output_type": "display_data"
    }
   ],
   "source": [
    "dim(pre_epoch1)"
   ]
  },
  {
   "cell_type": "code",
   "execution_count": 50,
   "metadata": {
    "collapsed": true
   },
   "outputs": [],
   "source": [
    "k = 2\n",
    "f = init_f(t(pre_epoch1), k)"
   ]
  },
  {
   "cell_type": "code",
   "execution_count": 51,
   "metadata": {},
   "outputs": [
    {
     "data": {
      "text/html": [
       "<ol class=list-inline>\n",
       "\t<li>1002</li>\n",
       "\t<li>1</li>\n",
       "</ol>\n"
      ],
      "text/latex": [
       "\\begin{enumerate*}\n",
       "\\item 1002\n",
       "\\item 1\n",
       "\\end{enumerate*}\n"
      ],
      "text/markdown": [
       "1. 1002\n",
       "2. 1\n",
       "\n",
       "\n"
      ],
      "text/plain": [
       "[1] 1002    1"
      ]
     },
     "metadata": {},
     "output_type": "display_data"
    }
   ],
   "source": [
    "dim(f)"
   ]
  },
  {
   "cell_type": "code",
   "execution_count": 52,
   "metadata": {
    "collapsed": true
   },
   "outputs": [],
   "source": [
    "maxiter = 100\n",
    "alpha = NaN\n",
    "beta = NaN\n",
    "loss_values = matrix(0, maxiter, 1)"
   ]
  },
  {
   "cell_type": "code",
   "execution_count": 82,
   "metadata": {
    "collapsed": true
   },
   "outputs": [],
   "source": [
    "s = alpha_beta(t(pre_epoch1), f, k)"
   ]
  },
  {
   "cell_type": "code",
   "execution_count": 83,
   "metadata": {},
   "outputs": [
    {
     "data": {
      "text/html": [
       "<ol class=list-inline>\n",
       "\t<li>32</li>\n",
       "\t<li>4</li>\n",
       "</ol>\n"
      ],
      "text/latex": [
       "\\begin{enumerate*}\n",
       "\\item 32\n",
       "\\item 4\n",
       "\\end{enumerate*}\n"
      ],
      "text/markdown": [
       "1. 32\n",
       "2. 4\n",
       "\n",
       "\n"
      ],
      "text/plain": [
       "[1] 32  4"
      ]
     },
     "metadata": {},
     "output_type": "display_data"
    }
   ],
   "source": [
    "dim(s)"
   ]
  },
  {
   "cell_type": "code",
   "execution_count": 59,
   "metadata": {
    "collapsed": true
   },
   "outputs": [],
   "source": [
    "# for (niter in 1:maxiter) {\n",
    "#     a = run_train_step(Z_t, k, f, alpha, beta);\n",
    "#     f = a$f_new;\n",
    "#     alpha = a$alpha_new;\n",
    "#     beta = a$beta_new\n",
    "#     loss_values[train_iter] = evaluate_op(Z_t, k, f, alpha, beta);\n",
    "# }"
   ]
  },
  {
   "cell_type": "code",
   "execution_count": 35,
   "metadata": {},
   "outputs": [
    {
     "name": "stdout",
     "output_type": "stream",
     "text": [
      "NULL\n"
     ]
    }
   ],
   "source": []
  },
  {
   "cell_type": "code",
   "execution_count": null,
   "metadata": {
    "collapsed": true
   },
   "outputs": [],
   "source": []
  }
 ],
 "metadata": {
  "kernelspec": {
   "display_name": "R",
   "language": "R",
   "name": "ir"
  },
  "language_info": {
   "codemirror_mode": "r",
   "file_extension": ".r",
   "mimetype": "text/x-r-source",
   "name": "R",
   "pygments_lexer": "r",
   "version": "3.3.2"
  }
 },
 "nbformat": 4,
 "nbformat_minor": 2
}
