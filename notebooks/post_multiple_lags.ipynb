{
 "cells": [
  {
   "cell_type": "code",
   "execution_count": 1,
   "metadata": {},
   "outputs": [
    {
     "name": "stderr",
     "output_type": "stream",
     "text": [
      "R.matlab v3.6.1 (2016-10-19) successfully loaded. See ?R.matlab for help.\n",
      "\n",
      "Attaching package: ‘R.matlab’\n",
      "\n",
      "The following objects are masked from ‘package:base’:\n",
      "\n",
      "    getOption, isOpen\n",
      "\n",
      "Loading required package: splines\n",
      "Loading required package: Matrix\n",
      "\n",
      "Attaching package: ‘fda’\n",
      "\n",
      "The following object is masked from ‘package:graphics’:\n",
      "\n",
      "    matplot\n",
      "\n"
     ]
    }
   ],
   "source": [
    "library(R.matlab)\n",
    "library(fda)\n",
    "library(caTools)\n",
    "library(gdpc)\n",
    "library(repr)"
   ]
  },
  {
   "cell_type": "code",
   "execution_count": 2,
   "metadata": {
    "collapsed": true
   },
   "outputs": [],
   "source": [
    "# Change plot size to 5 x 4\n",
    "options(repr.plot.width=5, repr.plot.height=4)"
   ]
  },
  {
   "cell_type": "code",
   "execution_count": null,
   "metadata": {
    "collapsed": true
   },
   "outputs": [],
   "source": []
  },
  {
   "cell_type": "code",
   "execution_count": 3,
   "metadata": {
    "collapsed": true
   },
   "outputs": [],
   "source": [
    "# Utility function to get the factors from models\n",
    "get_factors <- function(model, num_epochs=300) {\n",
    "    factors_list = list()\n",
    "    for (epoch in 1:num_epochs) {\n",
    "        factor = model[, epoch]$f\n",
    "        factor = (factor - mean(factor)) / sd(factor)\n",
    "        factors_list[[epoch]] = factor\n",
    "    }\n",
    "    res <- do.call(cbind, factors_list)\n",
    "    return(res)\n",
    "}\n",
    "\n",
    "# Utilitiy function to get MSE from models\n",
    "get_mse <- function(model, num_epochs=300) {\n",
    "    mse_list = list()\n",
    "    for (epoch in 1:num_epochs) {\n",
    "        mse = model[, epoch]$mse\n",
    "        mse_list[[epoch]] = mse\n",
    "    }\n",
    "    return(mse_list)\n",
    "}"
   ]
  },
  {
   "cell_type": "code",
   "execution_count": 4,
   "metadata": {
    "collapsed": true
   },
   "outputs": [],
   "source": [
    "# Collect log periodograms of factors for each epoch\n",
    "log_periodograms <- function(factors, num_epochs, smooth=TRUE, window=11, tlim=500) {\n",
    "    \n",
    "    # Smooth the log periodograms\n",
    "    smoothing <- function(log_pds, w=window) {\n",
    "        sm_log_pd_list = list()\n",
    "        for(i in 1:num_epochs) {\n",
    "            sm_log_pd = stats::filter(log_pds[[i]], rep(1/w, w), circular=TRUE)\n",
    "            sm_log_pd_list[[i]] = sm_log_pd\n",
    "        }\n",
    "        res <- do.call(cbind, sm_log_pd_list)\n",
    "        return (res)\n",
    "    }\n",
    "    \n",
    "    logpd.list = c()\n",
    "    for (i in 1:num_epochs) {\n",
    "        factor_epoch = factors[, i]\n",
    "        periodogram = (abs(fft(factor_epoch)))^2\n",
    "        log_pd = log(periodogram[1:tlim])\n",
    "        logpd.list[[i]] = log_pd\n",
    "    }\n",
    "    if (smooth) {\n",
    "        res <- smoothing(logpd.list)\n",
    "    }\n",
    "    else {\n",
    "        res <- do.call(cbind, logpd.list)\n",
    "    }\n",
    "    return (res)\n",
    "}"
   ]
  },
  {
   "cell_type": "code",
   "execution_count": 5,
   "metadata": {
    "collapsed": true
   },
   "outputs": [],
   "source": [
    "plot_factors <- function(GDPC, SPCA, epoch) {\n",
    "    ulim = max(max(SPCA[5:995, epoch], GDPC[5:995, epoch]))\n",
    "    llim = min(min(SPCA[5:995, epoch], GDPC[5:995, epoch]))\n",
    "    par(mar=c(6.1, .5, 2.1, 6.1), xpd=TRUE)\n",
    "    plot(GDPC[5:995, epoch], xaxt=\"n\", yaxt=\"n\", type='l', ylab='',ylim=c(llim, ulim),\n",
    "         main=sprintf(\"First Factors: Epoch %s\", epoch),xlab='ms', bty=\"n\", col=\"darkblue\")\n",
    "    lines(SPCA[5:995, epoch], col=2, xpd=FALSE)\n",
    "    axis(side=1, at=seq(0, 1000, 1000))\n",
    "    par(xpd=TRUE)\n",
    "    legend(\"topright\", ex.cs1, cex=0.9, y.intersp=2.5,legend=c(\"GDPCA\", \"SPCA\"), bty=\"n\", \n",
    "           lty=c(1,1),col=c(\"darkblue\", \"red\"), inset=c(-0.3, 0), text.font=2)\n",
    "}\n",
    "\n",
    "plot_periodograms <-function(Xgpd, Xspd, epoch) {\n",
    "    ulim = max(max(Xspd[7:495, epoch], Xgpd[7:495, epoch]))\n",
    "    llim = min(min(Xspd[7:495, epoch], Xgpd[7:495, epoch]))\n",
    "    par(mar=c(6.1, 0.5, 4.1, 4.1), xpd=TRUE)\n",
    "    plot(Xspd[7:495, epoch], xaxt=\"n\", yaxt=\"n\", type='l', ylab='', xlab='Hz',ylim=c(llim, ulim),\n",
    "         main=sprintf(\"Log Periodograms: Epoch %s\", epoch), bty='n', col='red')\n",
    "    lines(Xgpd[7:495, epoch], col=\"darkblue\", xpd=FALSE)\n",
    "    axis(side=1, at=seq(0, 500, 500))\n",
    "    legend(\"topright\", ex.cs1, cex=0.9, y.intersp=2.5,legend=c(\"GDPCA\", \"SPCA\"), bty=\"n\", \n",
    "           lty=c(1,1),col=c(\"darkblue\", \"red\"), inset=c(-.17, 0), text.font=2)\n",
    "}\n",
    "\n",
    "plot_periodograms2 <-function(Xgpd, lag1, Xgpd2, lag2, Xspd, epoch) {\n",
    "    ulim = max(max(Xspd[7:495, epoch]), max(Xgpd[7:495, epoch]), max(Xgpd2[7:495, epoch]))\n",
    "    llim = min(min(Xspd[7:495, epoch]), min(Xgpd[7:495, epoch]), min(Xgpd2[7:495, epoch]))\n",
    "    par(mar=c(6.1, 0.5, 4.1, 10.1), xpd=TRUE)\n",
    "    plot(Xspd[7:495, epoch], xaxt=\"n\", yaxt=\"n\", type='l', ylab='', xlab='Hz',ylim=c(llim, ulim),\n",
    "         main=sprintf(\"Log Periodograms: Epoch %s\", epoch), bty='n', col='red')\n",
    "    lines(Xgpd[7:495, epoch], col=\"darkblue\", xpd=FALSE)\n",
    "    lines(Xgpd2[7:495, epoch], col=\"darkgreen\", xpd=FALSE)\n",
    "    axis(side=1, at=seq(0, 500, 500))\n",
    "    gtitle1 = sprintf(\"GDPCA lag %s\", lag1)\n",
    "    gtitle2 = sprintf(\"GDPCA lag %s\", lag2)\n",
    "    stitle = \"SPCA\"\n",
    "    legend(\"topright\", ex.cs1, cex=0.9, y.intersp=1.7,legend=c(gtitle1, gtitle2, stitle),\n",
    "           bty=\"n\", lty=c(1,1,1),col=c(\"darkblue\", \"darkgreen\", \"red\"), inset=c(-.38, 0), text.font=2)\n",
    "}"
   ]
  },
  {
   "cell_type": "code",
   "execution_count": 6,
   "metadata": {
    "collapsed": true
   },
   "outputs": [],
   "source": [
    "# Functions to save factors and log periodograms\n",
    "save_factor_plots <- function(G, S, epochs, subdir=\"lagx_factors\") {\n",
    "    pardir =  \".\"\n",
    "    if (!dir.exists(file.path(pardir, subdir))) {\n",
    "        dir.create(file.path(pardir, subdir))\n",
    "    }\n",
    "\n",
    "    for (i in epochs) {\n",
    "        png(filename=sprintf(\"%s/%s_epoch%s.png\", subdir, subdir, i),\n",
    "            width=5, height=5, units=\"in\", res=600)\n",
    "        plot_factors(G, S, i)\n",
    "        dev.off()\n",
    "    }\n",
    "}\n",
    "\n",
    "save_logp_plots <- function(G, S, epochs, subdir=\"lagx_logp\") {\n",
    "    pardir =  \".\"\n",
    "    if (!dir.exists(file.path(pardir, subdir))) {\n",
    "        dir.create(file.path(pardir, subdir))\n",
    "    }\n",
    "\n",
    "    for (i in epochs) {\n",
    "        png(filename=sprintf(\"%s/%s_epoch%s.png\", subdir, subdir, i),\n",
    "            width=5, height=5, units=\"in\", res=600)\n",
    "        plot_periodograms(G, S, i)\n",
    "        dev.off()\n",
    "    }\n",
    "}\n",
    "\n",
    "save_logp_plots2 <- function(G1, lag1, G2, lag2, S, epochs, subdir=\"lagx_logp\") {\n",
    "    pardir =  \".\"\n",
    "    if (!dir.exists(file.path(pardir, subdir))) {\n",
    "        dir.create(file.path(pardir, subdir))\n",
    "    }\n",
    "\n",
    "    for (i in epochs) {\n",
    "        png(filename=sprintf(\"%s/%s_epoch%s.png\", subdir, subdir, i),\n",
    "            width=7, height=5, units=\"in\", res=600)\n",
    "        plot_periodograms2(G1, lag1, G2, lag2, S, i)\n",
    "        dev.off()\n",
    "    }\n",
    "}"
   ]
  },
  {
   "cell_type": "code",
   "execution_count": 7,
   "metadata": {
    "collapsed": true
   },
   "outputs": [],
   "source": [
    "plot_post_lfp_factor <- function(lfp, G, S, epoch, legend, with_gdpc=TRUE, with_spca=TRUE) {\n",
    "    excludes = c(1:5, 7:8, 11:12, 14:16, 18:26, 28:32)\n",
    "    epochs_exc_11_15_16 = c(54, 63, 64, 114:117, 136:141, 151:154, 161:168,\n",
    "                        182:187, 200:208, 223:225, 237:240, 296:297)\n",
    "    epochs_exc_chs_15_16 = c(62, 65, 66)\n",
    "    epochs_exc_chs_11_16 = c(236, 241, 243)\n",
    "    epochs_exc_chs_16 = c(171, 172)\n",
    "    if(is.element(epoch, epochs_exc_11_15_16)){\n",
    "        exs = c(1:5, 7:8, 12, 14, 18:26, 28:32)\n",
    "    }else if(is.element(epoch, epochs_exc_chs_15_16)){\n",
    "        exs = c(1:5, 7:8, 11:12, 14, 18:26, 28:32)\n",
    "    }else if(is.element(epoch, epochs_exc_chs_11_16)){\n",
    "        exs = c(1:5, 7:8, 12, 14:15, 18:26, 28:32)\n",
    "    }else if(is.element(epoch, epochs_exc_chs_16)){\n",
    "        exs = c(1:5, 7:8, 11:12, 14:15, 18:26, 28:32)\n",
    "    } else if(epoch==118){\n",
    "        exs = c(1:5, 7:8, 12, 14:16, 18:26, 28:32)\n",
    "    } else {\n",
    "        exs = excludes\n",
    "    }\n",
    "\n",
    "    par(mar=c(6.1, 0.5, 4.1, 6.7), xpd=TRUE)\n",
    "    start = (epoch-1)*1000+1\n",
    "    end = epoch*1000\n",
    "    ulim = max(max(G[5:995, epoch], lfp[(start+5):(end-5), exs]))\n",
    "    llim = min(min(G[5:995, epoch], lfp[(start+5):(end-5), exs]))\n",
    "    params = list(yaxt=\"n\", xaxt=\"n\", ylab=\"\", xlab=\"ms\", ylim=c(llim, ulim),\n",
    "                  bty=\"n\", main=sprintf(\"LFPs: Epoch %s\", epoch), xpd=FALSE)\n",
    "    ts.plot(lfp[(start+5):(end-5), exs], gpars=params)\n",
    "    if (with_gdpc) {\n",
    "        lines(G[5:995,epoch], col='red', lwd=2)\n",
    "    }\n",
    "    if (with_spca){\n",
    "        lines(S[5:995,epoch], col='orange', lwd=2)\n",
    "    }\n",
    "    axis(side=1, at=seq(0, 1000, 1000))\n",
    "    legend(\"topright\", ex.cs1, cex=0.6, y.intersp=2.5, legend=legend, bty=\"n\", \n",
    "           lty=c(1,1),col=c(\"red\", \"orange\"), inset=c(-0.3, 0))\n",
    "}\n",
    "        \n",
    "plot_post_lfp_factor2 <- function(lfp, G, G2, S, epoch, legend) {\n",
    "    excludes = c(1:5, 7:8, 11:12, 14:16, 18:26, 28:32)\n",
    "    epochs_exc_11_15_16 = c(54, 63, 64, 114:117, 136:141, 151:154, 161:168,\n",
    "                        182:187, 200:208, 223:225, 237:240, 296:297)\n",
    "    epochs_exc_chs_15_16 = c(62, 65, 66)\n",
    "    epochs_exc_chs_11_16 = c(236, 241, 243)\n",
    "    epochs_exc_chs_16 = c(171, 172)\n",
    "    if(is.element(epoch, epochs_exc_11_15_16)){\n",
    "        exs = c(1:5, 7:8, 12, 14, 18:26, 28:32)\n",
    "    }else if(is.element(epoch, epochs_exc_chs_15_16)){\n",
    "        exs = c(1:5, 7:8, 11:12, 14, 18:26, 28:32)\n",
    "    }else if(is.element(epoch, epochs_exc_chs_11_16)){\n",
    "        exs = c(1:5, 7:8, 12, 14:15, 18:26, 28:32)\n",
    "    }else if(is.element(epoch, epochs_exc_chs_16)){\n",
    "        exs = c(1:5, 7:8, 11:12, 14:15, 18:26, 28:32)\n",
    "    } else if(epoch==118){\n",
    "        exs = c(1:5, 7:8, 12, 14:16, 18:26, 28:32)\n",
    "    } else {\n",
    "        exs = excludes\n",
    "    }\n",
    "\n",
    "    par(mar=c(6.1, 0.5, 4.1, 6.7), xpd=TRUE)\n",
    "    start = (epoch-1)*1000+1\n",
    "    end = epoch*1000\n",
    "    ulim = max(max(G[5:995, epoch], lfp[(start+5):(end-5), exs]))\n",
    "    llim = min(min(G[5:995, epoch], lfp[(start+5):(end-5), exs]))\n",
    "    params = list(yaxt=\"n\", xaxt=\"n\", ylab=\"\", xlab=\"ms\", ylim=c(llim, ulim),\n",
    "                  bty=\"n\", main=sprintf(\"LFPs: Epoch %s\", epoch), xpd=FALSE)\n",
    "    ts.plot(lfp[(start+5):(end-5), exs], gpars=params)\n",
    "    lines(G[5:995,epoch], col='red', lwd=2)\n",
    "    lines(G2[5:995,epoch], col='chartreuse4', lwd=2)\n",
    "    lines(S[5:995,epoch], col='orange', lwd=1.5)\n",
    "    axis(side=1, at=seq(0, 1000, 1000))\n",
    "    legend(\"topright\", ex.cs1, cex=0.6, y.intersp=2.5, legend=legend, bty=\"n\", \n",
    "           lty=c(1,1),col=c(\"red\", \"chartreuse4\", \"orange\"), inset=c(-0.3, 0))\n",
    "}"
   ]
  },
  {
   "cell_type": "code",
   "execution_count": 8,
   "metadata": {
    "collapsed": true
   },
   "outputs": [],
   "source": [
    "normalize_post <- function(data, epochs=c(1:300)) {\n",
    "    Z = data\n",
    "    excludes = c(1:5, 7:8, 11:12, 14:16, 18:26, 28:32)\n",
    "    epochs_exc_11_15_16 = c(54, 63, 64, 114:117, 136:141, 151:154, 161:168,\n",
    "                        182:187, 200:208, 223:225, 237:240, 296:297)\n",
    "    epochs_exc_chs_15_16 = c(62, 65, 66)\n",
    "    epochs_exc_chs_11_16 = c(236, 241, 243)\n",
    "    epochs_exc_chs_16 = c(171, 172)\n",
    "    for (i in epochs) {\n",
    "        if(is.element(i, epochs_exc_11_15_16)){\n",
    "            exs = c(1:5, 7:8, 12, 14, 18:26, 28:32)\n",
    "        }else if(is.element(i, epochs_exc_chs_15_16)){\n",
    "            exs = c(1:5, 7:8, 11:12, 14, 18:26, 28:32)\n",
    "        }else if(is.element(i, epochs_exc_chs_11_16)){\n",
    "            exs = c(1:5, 7:8, 12, 14:15, 18:26, 28:32)\n",
    "        }else if(is.element(i, epochs_exc_chs_16)){\n",
    "            exs = c(1:5, 7:8, 11:12, 14:15, 18:26, 28:32)\n",
    "        } else if(i==118){\n",
    "            exs = c(1:5, 7:8, 12, 14:16, 18:26, 28:32)\n",
    "        } else {\n",
    "            exs = excludes\n",
    "        }\n",
    "        Zepoch = Z[((i-1)*1000+1):(i*1000), exs]\n",
    "        Z[((i-1)*1000+1):(i*1000), exs] = (Zepoch - mean(Zepoch)) / sd(Zepoch)\n",
    "    }\n",
    "    return(Z)\n",
    "}"
   ]
  },
  {
   "cell_type": "code",
   "execution_count": 9,
   "metadata": {
    "collapsed": true
   },
   "outputs": [],
   "source": [
    "# Functions to save factors superimposed with lfp\n",
    "save_lfp_factors <- function(Z, G, S, epochs, legend, subdir=\"lagx_lfp_gfactor\", gdpc=TRUE, spca=FALSE) {\n",
    "    pardir =  \".\"\n",
    "    if (!dir.exists(file.path(pardir, subdir))) {\n",
    "        dir.create(file.path(pardir, subdir))\n",
    "    }\n",
    "\n",
    "    for (i in epochs) {\n",
    "        png(filename=sprintf(\"%s/%s_epoch%s.png\", subdir, subdir, i),\n",
    "            width=5, height=5, units=\"in\", res=600)\n",
    "        plot_post_lfp_factor(Z, G, S, i, legend=legend, with_gdpc=gdpc, with_spca=spca)\n",
    "        dev.off()\n",
    "    }\n",
    "}\n",
    "\n",
    "save_lfp_factors2 <- function(Z, G, G2, S, epochs, legend, subdir=\"lagx_lfp_g2factor\") {\n",
    "    pardir =  \".\"\n",
    "    if (!dir.exists(file.path(pardir, subdir))) {\n",
    "        dir.create(file.path(pardir, subdir))\n",
    "    }\n",
    "\n",
    "    for (i in epochs) {\n",
    "        png(filename=sprintf(\"%s/%s_epoch%s.png\", subdir, subdir, i),\n",
    "            width=5, height=5, units=\"in\", res=600)\n",
    "        plot_post_lfp_factor2(Z, G, G2, S, i, legend=legend)\n",
    "        dev.off()\n",
    "    }\n",
    "}"
   ]
  },
  {
   "cell_type": "code",
   "execution_count": 10,
   "metadata": {
    "collapsed": true
   },
   "outputs": [],
   "source": [
    "recons_gdpc_epoch <- function(model, epoch) {\n",
    "    out <- model[, epoch]\n",
    "    class(out) <- append(class(out), \"gdpc\")\n",
    "    recons <- fitted(out, epoch)\n",
    "    return(recons)\n",
    "}\n",
    "        \n",
    "plot_post_lfp_recons <- function(Z, G, model, epoch, legend) {\n",
    "    excludes = c(1:5, 7:8, 11:12, 14:16, 18:26, 28:32)\n",
    "    epochs_exc_11_15_16 = c(54, 63, 64, 114:117, 136:141, 151:154, 161:168,\n",
    "                            182:187, 200:208, 223:225, 237:240, 296:297)\n",
    "    epochs_exc_chs_15_16 = c(62, 65, 66)\n",
    "    epochs_exc_chs_11_16 = c(236, 241, 243)\n",
    "    epochs_exc_chs_16 = c(171, 172)\n",
    "    if (epoch %in% epochs_exc_11_15_16) {\n",
    "        exs = c(1:5, 7:8, 12, 14, 18:26, 28:32)\n",
    "    } else if(epoch %in% epochs_exc_chs_15_16) {\n",
    "        exs = c(1:5, 7:8, 11:12, 14, 18:26, 28:32)\n",
    "    } else if(epoch %in% epochs_exc_chs_11_16) {\n",
    "        exs = c(1:5, 7:8, 12, 14:15, 18:26, 28:32)\n",
    "    } else if(epoch %in% epochs_exc_chs_16) {\n",
    "        exs = c(1:5, 7:8, 11:12, 14:15, 18:26, 28:32)\n",
    "    } else if(epoch == 118) {\n",
    "        exs = c(1:5, 7:8, 12, 14:16, 18:26, 28:32)\n",
    "    } else {\n",
    "        exs = excludes\n",
    "    }\n",
    "        \n",
    "    start = (epoch-1)*1000+1\n",
    "    end = epoch*1000\n",
    "    ts_z = Z[start:end, exs]\n",
    "    G_r = recons_gdpc_epoch(model, epoch)\n",
    "    ts_g_r = G_r / sd(G_r)\n",
    "    \n",
    "    par(mar=c(6.1, 0.5, 4.1, 6.7), xpd=TRUE)\n",
    "    ulim = max(max(ts_g_r, ts_z))\n",
    "    llim = min(min(ts_g_r, ts_z))\n",
    "    params = list(yaxt=\"n\", xaxt=\"n\", ylab=\"\", xlab=\"ms\", ylim=c(llim, ulim),\n",
    "                  bty=\"n\", main=sprintf(\"Reconstruction: Epoch %s\", epoch), xpd=FALSE)\n",
    "\n",
    "    ts.plot(ts_z, gpars=params)\n",
    "    chs = ncol(ts_g_r)\n",
    "    for (i in 1:chs) {\n",
    "        lines(ts_g_r[, i], col=\"darkgreen\", lty='dashed')\n",
    "    }\n",
    "    axis(side=1, at=seq(0, 1000, 1000))\n",
    "    legend(\"topright\", ex.cs1, cex=0.6, y.intersp=2.5, legend=legend, bty=\"n\", \n",
    "           lty=c(2,1),col=c(\"darkgreen\", \"black\"), inset=c(-0.3, 0))\n",
    "}"
   ]
  },
  {
   "cell_type": "code",
   "execution_count": 11,
   "metadata": {
    "collapsed": true
   },
   "outputs": [],
   "source": [
    "# Functions to save reconstructions using gdpca\n",
    "save_grecons <- function(Z, G, model, epochs, legend, subdir=\"lagx_grecon\") {\n",
    "    pardir =  \".\"\n",
    "    if (!dir.exists(file.path(pardir, subdir))) {\n",
    "        dir.create(file.path(pardir, subdir))\n",
    "    }\n",
    "\n",
    "    for (i in epochs) {\n",
    "        png(filename=sprintf(\"%s/%s_epoch%s.png\", subdir, subdir, i),\n",
    "            width=5, height=5, units=\"in\", res=600)\n",
    "        plot_post_lfp_recons(Z, G, model, i, legend=legend)\n",
    "        dev.off()\n",
    "    }\n",
    "}"
   ]
  },
  {
   "cell_type": "code",
   "execution_count": 12,
   "metadata": {
    "collapsed": true
   },
   "outputs": [],
   "source": [
    "# Read data\n",
    "lag1 <- source('data/post/post_epoch_models1.Rdmpd')\n",
    "lag10 <- source('data/post/post_epoch_models10.Rdmpd')\n",
    "lag15 <- source('data/post/post_epoch_models15.Rdmpd')\n",
    "lag20 <- source('data/post/post_epoch_models20.Rdmpd')\n",
    "lag50 <- source('data/post/post_epoch_models50.Rdmpd')\n",
    "lag150 <- source('data/post/post_epoch_models150.Rdmpd')\n",
    "lag299 <- source('data/post/post_epoch_models299.Rdmpd')\n",
    "lag500 <- source('data/post/post_epoch_models500.Rdmpd')\n",
    "lag700 <- source('data/post/post_epoch_models700.Rdmpd')\n",
    "lag999 <- source('data/post/post_epoch_models999.Rdmpd')\n",
    "\n",
    "# Get models for lags: 10, 150, 299, 500\n",
    "model1 = lag1[[1]]\n",
    "model10 = lag10[[1]]\n",
    "model15 = lag15[[1]]\n",
    "model20 = lag20[[1]]\n",
    "model50 = lag50[[1]]\n",
    "model150 = lag150[[1]]\n",
    "model299 = lag299[[1]]\n",
    "model500 = lag500[[1]]\n",
    "model700 = lag700[[1]]\n",
    "model999 = lag999[[1]]"
   ]
  },
  {
   "cell_type": "code",
   "execution_count": 13,
   "metadata": {
    "collapsed": true
   },
   "outputs": [],
   "source": [
    "# Get post factors for GDPCA\n",
    "G1 = get_factors(model1)\n",
    "G10 = get_factors(model10)\n",
    "G15 = get_factors(model15)\n",
    "G20 = get_factors(model20)\n",
    "G50 = get_factors(model50)\n",
    "G150 = get_factors(model150)\n",
    "G299 = get_factors(model299)\n",
    "G500 = get_factors(model500)\n",
    "G700 = get_factors(model700)\n",
    "G999 = get_factors(model999)\n",
    "\n",
    "# Get MSE\n",
    "mse1 = get_mse(model1)\n",
    "mse10 = get_mse(model10)\n",
    "mse15 = get_mse(model15)\n",
    "mse20 = get_mse(model20)\n",
    "mse50 = get_mse(model50)\n",
    "mse150 = get_mse(model150)\n",
    "mse299 = get_mse(model299)\n",
    "mse500 = get_mse(model500)\n",
    "mse700 = get_mse(model700)\n",
    "mse999 = get_mse(model999)\n",
    "\n",
    "# Read post factors for SPCA\n",
    "S = as.matrix(read.csv(\"data/post/factor1_post_lfp_normalized_removed_local.csv\"))[, 2:1001]\n",
    "\n",
    "# Take transpose of SPCA for functional boxplots\n",
    "S = t(S)"
   ]
  },
  {
   "cell_type": "code",
   "execution_count": 14,
   "metadata": {
    "collapsed": true
   },
   "outputs": [],
   "source": [
    "# Get log periodograms for SPCA and GDPC\n",
    "P_s = log_periodograms(S, num_epochs=300)\n",
    "P_g1 = log_periodograms(G1, num_epochs=300, smooth=FALSE)\n",
    "P_g10 = log_periodograms(G10, num_epochs=300, smooth=FALSE)\n",
    "P_g15 = log_periodograms(G15, num_epochs=300, smooth=FALSE)\n",
    "P_g20 = log_periodograms(G20, num_epochs=300, smooth=FALSE)\n",
    "P_g50 = log_periodograms(G50, num_epochs=300, smooth=FALSE)\n",
    "P_g150 = log_periodograms(G150, num_epochs=300, smooth=FALSE)\n",
    "P_g299 = log_periodograms(G299, num_epochs=300, smooth=FALSE)\n",
    "P_g500 = log_periodograms(G500, num_epochs=300, smooth=FALSE)\n",
    "P_g700 = log_periodograms(G700, num_epochs=300, smooth=FALSE)\n",
    "P_g999 = log_periodograms(G999, num_epochs=300, smooth=FALSE)"
   ]
  },
  {
   "cell_type": "code",
   "execution_count": 15,
   "metadata": {
    "collapsed": true
   },
   "outputs": [],
   "source": [
    "# Read in post_pmcao data\n",
    "data = readMat('data/F141020-lfp-5min-1kHz.mat')\n",
    "Z = data$post.pmcao"
   ]
  },
  {
   "cell_type": "code",
   "execution_count": 16,
   "metadata": {
    "collapsed": true
   },
   "outputs": [],
   "source": [
    "# Normalize data set\n",
    "Z_norm = normalize_post(Z)"
   ]
  },
  {
   "cell_type": "code",
   "execution_count": 21,
   "metadata": {},
   "outputs": [
    {
     "data": {
      "image/png": "[encoded data removed]",
      "text/plain": [
       "Plot with title “LFPs: Epoch 2”"
      ]
     },
     "metadata": {},
     "output_type": "display_data"
    }
   ],
   "source": [
    "plot_post_lfp_factor2(Z_norm, G10, G500, S, 2, legend=c(\"GDPCA lag 10\", \"GDPCA lag 500\", \"SPCA\"))"
   ]
  },
  {
   "cell_type": "code",
   "execution_count": 22,
   "metadata": {},
   "outputs": [
    {
     "data": {
      "image/png": "[encoded data removed]",
      "text/plain": [
       "Plot with title “Log Periodograms: Epoch 10”"
      ]
     },
     "metadata": {},
     "output_type": "display_data"
    }
   ],
   "source": [
    "plot_periodograms2(P_g10, lag1=10, P_g500, lag2=500, P_s, epoch = 10)"
   ]
  },
  {
   "cell_type": "code",
   "execution_count": 23,
   "metadata": {},
   "outputs": [
    {
     "data": {
      "image/png": "[encoded data removed]",
      "text/plain": [
       "Plot with title “Reconstruction: Epoch 1”"
      ]
     },
     "metadata": {},
     "output_type": "display_data"
    }
   ],
   "source": [
    "plot_post_lfp_recons(Z_norm, G500, model299, epoch=1, legend=c(\"GDPCA lag 299\", \"Original Data\"))"
   ]
  },
  {
   "cell_type": "code",
   "execution_count": 19,
   "metadata": {
    "collapsed": true
   },
   "outputs": [],
   "source": [
    "# ulim = max(max(P_s[7:495, ]), max(P_g500[7:495, ]))\n",
    "# llim = min(min(P_s[7:495, ]), min(P_g500[7:495, ]))\n",
    "# for(i in 1:300) {\n",
    "\n",
    "#     png(filename = sprintf(\"post_frames_500/%s.png\", i), width=7, height=4, units='in', res=300)\n",
    "#     par(mfrow = c(1, 2))\n",
    "#     plot(P_s[7:495, i], xaxt=\"n\", yaxt=\"n\", type='l', ylab='', ylim=c(llim, ulim),\n",
    "#     main=sprintf(\"SPCA Epoch %s\", i),xlab='Hz', bty=\"n\", col=\"black\")\n",
    "#     axis(side=1, at=seq(0, 500, 500))\n",
    "    \n",
    "#     for(j in 1:i) {\n",
    "#         lines(P_s[7:495, j], col = \"black\")\n",
    "#     }\n",
    "#     lines(P_s[7:495, i], col = \"red\", lwd = 2)\n",
    "    \n",
    "#     plot(P_g500[7:495, i], xaxt=\"n\", yaxt=\"n\", type='l', ylab='', ylim=c(llim, ulim),\n",
    "#     main=sprintf(\"GDPCA Lag 500 Epoch %s\", i),xlab='Hz', bty=\"n\", col=\"black\")\n",
    "#     axis(side=1, at=seq(0, 500, 500))\n",
    "    \n",
    "#     for(j in 1:i) {\n",
    "#         lines(P_g500[7:495, j], col = \"black\")\n",
    "#     }\n",
    "#     lines(P_g500[7:495, i], col = \"red\", lwd = 2)\n",
    "#     dev.off()\n",
    "# }"
   ]
  },
  {
   "cell_type": "code",
   "execution_count": 24,
   "metadata": {
    "collapsed": true
   },
   "outputs": [],
   "source": [
    "#epochs = c(1:300)\n",
    "epochs = c(4, 48, 49, 68, 145, 153, 220, 244, 287, 300)\n",
    "\n",
    "# Save factors w/ 2 lags\n",
    "leg1 = legend=c(\"GDPCA lag 1\", \"GDPCA lag 10\", \"SPCA\")\n",
    "save_lfp_factors2(Z_norm, G1, G10, S, epochs, legend=leg1, subdir=\"lag1_lag10_lfp_g2sfactor\")\n",
    "\n",
    "leg2 = legend=c(\"GDPCA lag 15\", \"GDPCA lag 20\", \"SPCA\")\n",
    "save_lfp_factors2(Z_norm, G15, G20, S, epochs, legend=leg2, subdir=\"lag15_lag20_lfp_g2sfactor\")\n",
    "\n",
    "leg3 = legend=c(\"GDPCA lag 50\", \"GDPCA lag 150\", \"SPCA\")\n",
    "save_lfp_factors2(Z_norm, G50, G150, S, epochs, legend=leg3, subdir=\"lag50_lag150_lfp_g2sfactor\")\n",
    "\n",
    "leg4 = legend=c(\"GDPCA lag 299\", \"GDPCA lag 500\", \"SPCA\")\n",
    "save_lfp_factors2(Z_norm, G299, G500, S, epochs, legend=leg4, subdir=\"lag299_lag500_lfp_g2sfactor\")\n",
    "\n",
    "leg5 = legend=c(\"GDPCA lag 700\", \"GDPCA lag 999\", \"SPCA\")\n",
    "save_lfp_factors2(Z_norm, G700, G999, S, epochs, legend=leg5, subdir=\"lag700_lag999_lfp_g2sfactor\")\n",
    "\n",
    "# Save log periodograms\n",
    "save_logp_plots2(P_g1, lag1=1, P_g10, lag2=10, P_s, epochs, subdir=\"lag1_lag_10_logp\")\n",
    "save_logp_plots2(P_g15, lag1=15, P_g20, lag2=20, P_s, epochs, subdir=\"lag15_lag_20_logp\")\n",
    "save_logp_plots2(P_g50, lag1=50, P_g150, lag2=150, P_s, epochs, subdir=\"lag50_lag_150_logp\")\n",
    "save_logp_plots2(P_g299, lag1=299, P_g500, lag2=500, P_s, epochs, subdir=\"lag299_lag_500_logp\")\n",
    "save_logp_plots2(P_g700, lag1=700, P_g999, lag2=999, P_s, epochs, subdir=\"lag700_lag_999_logp\")\n",
    "\n",
    "# Save reconstructions\n",
    "save_grecons(Z_norm, G1, model1, epochs, legend=c(\"GDPC lag 1\", \"Original Data\"), subdir=\"lag1_grecon\")\n",
    "save_grecons(Z_norm, G10, model10, epochs, legend=c(\"GDPC lag 10\", \"Original Data\"), subdir=\"lag10_grecon\")\n",
    "save_grecons(Z_norm, G15, model15, epochs, legend=c(\"GDPC lag 15\", \"Original Data\"), subdir=\"lag15_grecon\")\n",
    "save_grecons(Z_norm, G20, model20, epochs, legend=c(\"GDPC lag 20\", \"Original Data\"), subdir=\"lag20_grecon\")\n",
    "save_grecons(Z_norm, G50, model50, epochs, legend=c(\"GDPC lag 50\", \"Original Data\"), subdir=\"lag50_grecon\")\n",
    "save_grecons(Z_norm, G150, model150, epochs, legend=c(\"GDPC lag 150\", \"Original Data\"), subdir=\"lag150_grecon\")\n",
    "save_grecons(Z_norm, G299, model299, epochs, legend=c(\"GDPC lag 299\", \"Original Data\"), subdir=\"lag299_grecon\")\n",
    "save_grecons(Z_norm, G500, model500, epochs, legend=c(\"GDPC lag 500\", \"Original Data\"), subdir=\"lag500_grecon\")\n",
    "save_grecons(Z_norm, G700, model700, epochs, legend=c(\"GDPC lag 700\", \"Original Data\"), subdir=\"lag700_grecon\")\n",
    "save_grecons(Z_norm, G999, model999, epochs, legend=c(\"GDPC lag 999\", \"Original Data\"), subdir=\"lag999_grecon\")"
   ]
  },
  {
   "cell_type": "code",
   "execution_count": 26,
   "metadata": {},
   "outputs": [
    {
     "data": {
      "text/html": [
       "<strong>png:</strong> 2"
      ],
      "text/latex": [
       "\\textbf{png:} 2"
      ],
      "text/markdown": [
       "**png:** 2"
      ],
      "text/plain": [
       "png \n",
       "  2 "
      ]
     },
     "metadata": {},
     "output_type": "display_data"
    }
   ],
   "source": [
    "# png(filename = \"post_gdpca_functional_lag1.png\", width=5, height=5, units=\"in\", res=600)\n",
    "# P_g1[P_g1 == -Inf] = 0\n",
    "# llim = min(P_g1[5:495,])\n",
    "# ulim = max(P_g1[5:495,])\n",
    "# fbg_1 = fbplot(P_g1[5:495,],method='MBD',ylab=\"\",xlab=\"Hz\", main = \"Functional Boxplot: GDPCA lag 1\", \n",
    "#                  ylim=c(llim, ulim),  xaxt=\"n\", yaxt=\"n\", bty = \"n\")\n",
    "# axis(side=1, at=seq(0, 500, 500))\n",
    "# dev.off()"
   ]
  },
  {
   "cell_type": "code",
   "execution_count": 27,
   "metadata": {},
   "outputs": [
    {
     "data": {
      "text/html": [
       "<strong>png:</strong> 2"
      ],
      "text/latex": [
       "\\textbf{png:} 2"
      ],
      "text/markdown": [
       "**png:** 2"
      ],
      "text/plain": [
       "png \n",
       "  2 "
      ]
     },
     "metadata": {},
     "output_type": "display_data"
    }
   ],
   "source": [
    "# png(filename = \"post_gdpca_functional_lag10.png\", width=5, height=5, units=\"in\", res=600)\n",
    "# P_g10[P_g10 == -Inf] = 0\n",
    "# llim = min(P_g10[5:495,])\n",
    "# ulim = max(P_g10[5:495,])\n",
    "# fbg_10 = fbplot(P_g10[5:495,],method='MBD',ylab=\"\",xlab=\"Hz\", main = \"Functional Boxplot: GDPCA lag 10\", \n",
    "#                  ylim=c(llim, ulim),  xaxt=\"n\", yaxt=\"n\", bty = \"n\")\n",
    "# axis(side=1, at=seq(0, 500, 500))\n",
    "# dev.off()"
   ]
  },
  {
   "cell_type": "code",
   "execution_count": 28,
   "metadata": {},
   "outputs": [
    {
     "data": {
      "text/html": [
       "<strong>png:</strong> 2"
      ],
      "text/latex": [
       "\\textbf{png:} 2"
      ],
      "text/markdown": [
       "**png:** 2"
      ],
      "text/plain": [
       "png \n",
       "  2 "
      ]
     },
     "metadata": {},
     "output_type": "display_data"
    }
   ],
   "source": [
    "# png(filename = \"post_gdpca_functional_lag15.png\", width=5, height=5, units=\"in\", res=600)\n",
    "# P_g15[P_g15 == -Inf] = 0\n",
    "# llim = min(P_g15[5:495,])\n",
    "# ulim = max(P_g15[5:495,])\n",
    "# fbg_15 = fbplot(P_g15[5:495,],method='MBD',ylab=\"\",xlab=\"Hz\", main = \"Functional Boxplot: GDPCA lag 15\", \n",
    "#                  ylim=c(llim, ulim),  xaxt=\"n\", yaxt=\"n\", bty = \"n\")\n",
    "# axis(side=1, at=seq(0, 500, 500))\n",
    "# dev.off()"
   ]
  },
  {
   "cell_type": "code",
   "execution_count": 29,
   "metadata": {},
   "outputs": [
    {
     "data": {
      "text/html": [
       "<strong>png:</strong> 2"
      ],
      "text/latex": [
       "\\textbf{png:} 2"
      ],
      "text/markdown": [
       "**png:** 2"
      ],
      "text/plain": [
       "png \n",
       "  2 "
      ]
     },
     "metadata": {},
     "output_type": "display_data"
    }
   ],
   "source": [
    "# png(filename = \"post_gdpca_functional_lag20.png\", width=5, height=5, units=\"in\", res=600)\n",
    "# P_g20[P_g20 == -Inf] = 0\n",
    "# llim = min(P_g20[5:495,])\n",
    "# ulim = max(P_g20[5:495,])\n",
    "# fbg_20 = fbplot(P_g20[5:495,],method='MBD',ylab=\"\",xlab=\"Hz\", main = \"Functional Boxplot: GDPCA lag 20\", \n",
    "#                  ylim=c(llim, ulim),  xaxt=\"n\", yaxt=\"n\", bty = \"n\")\n",
    "# axis(side=1, at=seq(0, 500, 500))\n",
    "# dev.off()"
   ]
  },
  {
   "cell_type": "code",
   "execution_count": 30,
   "metadata": {},
   "outputs": [
    {
     "data": {
      "text/html": [
       "<strong>png:</strong> 2"
      ],
      "text/latex": [
       "\\textbf{png:} 2"
      ],
      "text/markdown": [
       "**png:** 2"
      ],
      "text/plain": [
       "png \n",
       "  2 "
      ]
     },
     "metadata": {},
     "output_type": "display_data"
    }
   ],
   "source": [
    "# png(filename = \"post_gdpca_functional_lag50.png\", width=5, height=5, units=\"in\", res=600)\n",
    "# P_g50[P_g50 == -Inf] = 0\n",
    "# llim = min(P_g50[5:495,])\n",
    "# ulim = max(P_g50[5:495,])\n",
    "# fbg_50 = fbplot(P_g50[5:495,],method='MBD',ylab=\"\",xlab=\"Hz\", main = \"Functional Boxplot: GDPCA lag 50\", \n",
    "#                  ylim=c(llim, ulim),  xaxt=\"n\", yaxt=\"n\", bty = \"n\")\n",
    "# axis(side=1, at=seq(0, 500, 500))\n",
    "# dev.off()"
   ]
  },
  {
   "cell_type": "code",
   "execution_count": 31,
   "metadata": {},
   "outputs": [
    {
     "data": {
      "text/html": [
       "<strong>png:</strong> 2"
      ],
      "text/latex": [
       "\\textbf{png:} 2"
      ],
      "text/markdown": [
       "**png:** 2"
      ],
      "text/plain": [
       "png \n",
       "  2 "
      ]
     },
     "metadata": {},
     "output_type": "display_data"
    }
   ],
   "source": [
    "# png(filename = \"post_gdpca_functional_lag150.png\", width=5, height=5, units=\"in\", res=600)\n",
    "# P_g150[P_g150 == -Inf] = 0\n",
    "# llim = min(P_g150[5:495,])\n",
    "# ulim = max(P_g150[5:495,])\n",
    "# fb_g150 = fbplot(P_g150[5:495,],method='MBD',ylab=\"\",xlab=\"Hz\", main = \"Functional Boxplot: GDPCA lag 150\", \n",
    "#                  ylim=c(llim, ulim),  xaxt=\"n\", yaxt=\"n\", bty = \"n\")\n",
    "# axis(side=1, at=seq(0, 500, 500))\n",
    "# dev.off()"
   ]
  },
  {
   "cell_type": "code",
   "execution_count": 32,
   "metadata": {},
   "outputs": [
    {
     "data": {
      "text/html": [
       "<strong>png:</strong> 2"
      ],
      "text/latex": [
       "\\textbf{png:} 2"
      ],
      "text/markdown": [
       "**png:** 2"
      ],
      "text/plain": [
       "png \n",
       "  2 "
      ]
     },
     "metadata": {},
     "output_type": "display_data"
    }
   ],
   "source": [
    "# png(filename = \"post_gdpca_functional_lag299.png\", width=5, height=5, units=\"in\", res=600)\n",
    "# P_g299[P_g299 == -Inf] = 0\n",
    "# llim = min(P_g299[5:495,])\n",
    "# ulim = max(P_g299[5:495,])\n",
    "# fbg_299 = fbplot(P_g299[5:495,],method='MBD',ylab=\"\",xlab=\"Hz\", main = \"Functional Boxplot: GDPCA lag 299\", \n",
    "#                  ylim=c(llim, ulim),  xaxt=\"n\", yaxt=\"n\", bty = \"n\")\n",
    "# axis(side=1, at=seq(0, 500, 500))\n",
    "# dev.off()"
   ]
  },
  {
   "cell_type": "code",
   "execution_count": 33,
   "metadata": {},
   "outputs": [
    {
     "data": {
      "text/html": [
       "<strong>png:</strong> 2"
      ],
      "text/latex": [
       "\\textbf{png:} 2"
      ],
      "text/markdown": [
       "**png:** 2"
      ],
      "text/plain": [
       "png \n",
       "  2 "
      ]
     },
     "metadata": {},
     "output_type": "display_data"
    }
   ],
   "source": [
    "# png(filename = \"post_gdpca_functional_lag500.png\", width=5, height=5, units=\"in\", res=600)\n",
    "# P_g500[P_g500 == -Inf] = 0\n",
    "# llim = min(P_g500[5:495,])\n",
    "# ulim = max(P_g500[5:495,])\n",
    "# fbg_500 = fbplot(P_g500[5:495,],method='MBD',ylab=\"\",xlab=\"Hz\", main = \"Functional Boxplot: GDPCA lag 500\", \n",
    "#                  ylim=c(llim, ulim),  xaxt=\"n\", yaxt=\"n\", bty = \"n\")\n",
    "# axis(side=1, at=seq(0, 500, 500))\n",
    "# dev.off()"
   ]
  },
  {
   "cell_type": "code",
   "execution_count": 34,
   "metadata": {},
   "outputs": [
    {
     "data": {
      "text/html": [
       "<strong>png:</strong> 2"
      ],
      "text/latex": [
       "\\textbf{png:} 2"
      ],
      "text/markdown": [
       "**png:** 2"
      ],
      "text/plain": [
       "png \n",
       "  2 "
      ]
     },
     "metadata": {},
     "output_type": "display_data"
    }
   ],
   "source": [
    "# png(filename = \"post_gdpca_functional_lag700.png\", width=5, height=5, units=\"in\", res=600)\n",
    "# P_g700[P_g700 == -Inf] = 0\n",
    "# llim = min(P_g700[5:495,])\n",
    "# ulim = max(P_g700[5:495,])\n",
    "# fbg_700 = fbplot(P_g700[5:495,],method='MBD',ylab=\"\",xlab=\"Hz\", main = \"Functional Boxplot: GDPCA lag 700\", \n",
    "#                  ylim=c(llim, ulim),  xaxt=\"n\", yaxt=\"n\", bty = \"n\")\n",
    "# axis(side=1, at=seq(0, 500, 500))\n",
    "# dev.off()"
   ]
  },
  {
   "cell_type": "code",
   "execution_count": 35,
   "metadata": {},
   "outputs": [
    {
     "data": {
      "text/html": [
       "<strong>png:</strong> 2"
      ],
      "text/latex": [
       "\\textbf{png:} 2"
      ],
      "text/markdown": [
       "**png:** 2"
      ],
      "text/plain": [
       "png \n",
       "  2 "
      ]
     },
     "metadata": {},
     "output_type": "display_data"
    }
   ],
   "source": [
    "# png(filename = \"post_gdpca_functional_lag999.png\", width=5, height=5, units=\"in\", res=600)\n",
    "# P_g999[P_g999 == -Inf] = 0\n",
    "# llim = min(P_g999[5:495,])\n",
    "# ulim = max(P_g999[5:495,])\n",
    "# fbg_999 = fbplot(P_g999[5:495,],method='MBD',ylab=\"\",xlab=\"Hz\", main = \"Functional Boxplot: GDPCA lag 999\", \n",
    "#                  ylim=c(llim, ulim),  xaxt=\"n\", yaxt=\"n\", bty = \"n\")\n",
    "# axis(side=1, at=seq(0, 500, 500))\n",
    "# dev.off()"
   ]
  },
  {
   "cell_type": "code",
   "execution_count": 36,
   "metadata": {},
   "outputs": [
    {
     "data": {
      "text/html": [
       "<strong>png:</strong> 2"
      ],
      "text/latex": [
       "\\textbf{png:} 2"
      ],
      "text/markdown": [
       "**png:** 2"
      ],
      "text/plain": [
       "png \n",
       "  2 "
      ]
     },
     "metadata": {},
     "output_type": "display_data"
    }
   ],
   "source": [
    "#png(filename = \"post_sdpca_functional.png\", width=5, height=5, units=\"in\", res=600)\n",
    "llim = min(P_s[5:495,])\n",
    "ulim = max(P_s[5:495,])\n",
    "spca_fb = fbplot(P_s[5:495,],method='MBD',ylab=\"\",xlab=\"Hz\", main = \"Functional Boxplot: SPCA\", \n",
    "                 ylim=c(llim, ulim),  xaxt=\"n\", yaxt=\"n\", bty = \"n\")\n",
    "axis(side=1, at=seq(0, 500, 500))\n",
    "#dev.off()"
   ]
  },
  {
   "cell_type": "code",
   "execution_count": 37,
   "metadata": {},
   "outputs": [
    {
     "data": {
      "text/html": [
       "<strong>png:</strong> 2"
      ],
      "text/latex": [
       "\\textbf{png:} 2"
      ],
      "text/markdown": [
       "**png:** 2"
      ],
      "text/plain": [
       "png \n",
       "  2 "
      ]
     },
     "metadata": {},
     "output_type": "display_data"
    }
   ],
   "source": [
    "#png(filename = \"post_medians_lag1_lag10.png\", width=7, height=5, units=\"in\", res=600)\n",
    "\n",
    "#Extracting the median curve for SPCA periodograms\n",
    "par(mar=c(6.1, 0.3, 6.1, 10.1), xpd=TRUE)\n",
    "\n",
    "spca_post_med = spca_fb$medcurve\n",
    "gpca_post_med1 = fbg_1$medcurve\n",
    "gpca_post_med10 = fbg_10$medcurve\n",
    "\n",
    "llim = min(min(P_s[5:495,spca_post_med]), min(P_g1[5:495, gpca_post_med1]), min(min(P_g10[5:495, gpca_post_med10])))\n",
    "ulim = max(max(P_s[5:495,spca_post_med], P_g1[5:495, gpca_post_med1]))\n",
    "\n",
    "plot(P_s[5:495,spca_post_med], xaxt=\"n\", yaxt=\"n\", bty = \"n\", col = \"red\", xlab = \"Hz\",\n",
    "     lwd = 2, main = \"Median curves\", ylab = \"\", type = 'l', cex.main=1, ylim=c(llim, ulim))\n",
    "axis(side=1, at=seq(0, 500, 500))\n",
    "\n",
    "lines(P_g1[5:495, gpca_post_med1], col = \"blue\", lwd=2)\n",
    "lines(P_g10[5:495, gpca_post_med10], col = \"darkorange\", lwd=2)\n",
    "\n",
    "legend(\"topright\", ex.cs1, cex=1, y.intersp=3.5,legend=c(\"GDPCA lag 1\", \"GDPCA lag 10\", \"SPCA\"), bty=\"n\", \n",
    "       lty=c(1,1,1),col=c(\"darkblue\", \"darkorange\", \"red\"), inset=c(-0.4, 0), text.font=1, pt.cex=1)\n",
    "#dev.off()"
   ]
  },
  {
   "cell_type": "code",
   "execution_count": 38,
   "metadata": {},
   "outputs": [
    {
     "data": {
      "text/html": [
       "<strong>png:</strong> 2"
      ],
      "text/latex": [
       "\\textbf{png:} 2"
      ],
      "text/markdown": [
       "**png:** 2"
      ],
      "text/plain": [
       "png \n",
       "  2 "
      ]
     },
     "metadata": {},
     "output_type": "display_data"
    }
   ],
   "source": [
    "#png(filename = \"post_medians_lag15_lag20.png\", width=7, height=5, units=\"in\", res=600)\n",
    "\n",
    "#Extracting the median curve for SPCA periodograms\n",
    "par(mar=c(6.1, 0.3, 6.1, 10.1), xpd=TRUE)\n",
    "\n",
    "spca_post_med = spca_fb$medcurve\n",
    "gpca_post_med15 = fbg_15$medcurve\n",
    "gpca_post_med20 = fbg_20$medcurve\n",
    "\n",
    "llim = min(min(P_s[5:495,spca_post_med]), min(P_g15[5:495, gpca_post_med15]), min(P_g20[5:495, gpca_post_med20]))\n",
    "ulim = max(max(P_s[5:495,spca_post_med]), max(P_g15[5:495, gpca_post_med15]), max(P_g20[5:495, gpca_post_med20]))\n",
    "\n",
    "plot(P_s[5:495,spca_post_med], xaxt=\"n\", yaxt=\"n\", bty = \"n\", col = \"red\", xlab = \"Hz\",\n",
    "     lwd = 2, main = \"Median curves\", ylab = \"\", type = 'l', cex.main=1, ylim=c(llim, ulim))\n",
    "axis(side=1, at=seq(0, 500, 500))\n",
    "\n",
    "lines(P_g15[5:495, gpca_post_med15], col = \"darkblue\", lwd=2)\n",
    "lines(P_g20[5:495, gpca_post_med20], col = \"darkorange\", lwd=2)\n",
    "\n",
    "legend(\"topright\", ex.cs1, cex=1, y.intersp=3.5,legend=c(\"GDPCA lag 15\", \"GDPCA lag 20\", \"SPCA\"), bty=\"n\", \n",
    "       lty=c(1,1,1),col=c(\"darkblue\", \"darkorange\", \"red\"), inset=c(-0.4, 0), text.font=1, pt.cex=1)\n",
    "#dev.off()"
   ]
  },
  {
   "cell_type": "code",
   "execution_count": 39,
   "metadata": {},
   "outputs": [
    {
     "data": {
      "text/html": [
       "<strong>png:</strong> 2"
      ],
      "text/latex": [
       "\\textbf{png:} 2"
      ],
      "text/markdown": [
       "**png:** 2"
      ],
      "text/plain": [
       "png \n",
       "  2 "
      ]
     },
     "metadata": {},
     "output_type": "display_data"
    }
   ],
   "source": [
    "#png(filename = \"post_medians_lag50_lag150.png\", width=7, height=5, units=\"in\", res=600)\n",
    "\n",
    "#Extracting the median curve for SPCA periodograms\n",
    "par(mar=c(6.1, 0.3, 6.1, 10.1), xpd=TRUE)\n",
    "\n",
    "spca_post_med = spca_fb$medcurve\n",
    "gpca_post_med50 = fbg_50$medcurve\n",
    "gpca_post_med150 = fb_g150$medcurve\n",
    "\n",
    "llim = min(min(P_s[5:495,spca_post_med]), min(P_g50[5:495, gpca_post_med50]), min(P_g150[5:495, gpca_post_med150]))\n",
    "ulim = max(max(P_s[5:495,spca_post_med]), max(P_g50[5:495, gpca_post_med50]), max(P_g150[5:495, gpca_post_med150]))\n",
    "\n",
    "plot(P_s[5:495,spca_post_med], xaxt=\"n\", yaxt=\"n\", bty = \"n\", col = \"red\", xlab = \"Hz\",\n",
    "     lwd = 2, main = \"Median curves\", ylab = \"\", type = 'l', cex.main=1, ylim=c(llim, ulim))\n",
    "axis(side=1, at=seq(0, 500, 500))\n",
    "\n",
    "lines(P_g50[5:495, gpca_post_med50], col = \"darkblue\", lwd=2)\n",
    "lines(P_g150[5:495, gpca_post_med150], col = \"darkorange\", lwd=2)\n",
    "\n",
    "legend(\"topright\", ex.cs1, cex=1, y.intersp=3.5,legend=c(\"GDPCA lag 50\", \"GDPCA lag 150\", \"SPCA\"), bty=\"n\", \n",
    "       lty=c(1,1,1),col=c(\"darkblue\", \"darkorange\", \"red\"), inset=c(-0.4, 0), text.font=1, pt.cex=1)\n",
    "#dev.off()"
   ]
  },
  {
   "cell_type": "code",
   "execution_count": 40,
   "metadata": {},
   "outputs": [
    {
     "data": {
      "text/html": [
       "<strong>png:</strong> 2"
      ],
      "text/latex": [
       "\\textbf{png:} 2"
      ],
      "text/markdown": [
       "**png:** 2"
      ],
      "text/plain": [
       "png \n",
       "  2 "
      ]
     },
     "metadata": {},
     "output_type": "display_data"
    }
   ],
   "source": [
    "# png(filename = \"post_medians_lag299_lag500.png\", width=7, height=5, units=\"in\", res=600)\n",
    "\n",
    "# #Extracting the median curve for SPCA periodograms\n",
    "# par(mar=c(6.1, 0.3, 6.1, 10.1), xpd=TRUE)\n",
    "\n",
    "# spca_post_med = spca_fb$medcurve\n",
    "# gpca_post_med299 = fbg_299$medcurve\n",
    "# gpca_post_med500 = fbg_500$medcurve\n",
    "\n",
    "\n",
    "# llim = min(min(P_s[5:495,spca_post_med]), min(P_g299[5:495, gpca_post_med299]), min(P_g299[5:495, gpca_post_med299])) -1\n",
    "# ulim = max(max(P_s[5:495,spca_post_med]), max(P_g299[5:495, gpca_post_med299]), max(P_g500[5:495, gpca_post_med500]))\n",
    "\n",
    "# plot(P_s[5:495,spca_post_med], xaxt=\"n\", yaxt=\"n\", bty = \"n\", col = \"red\", xlab = \"Hz\",\n",
    "#      lwd = 2, main = \"Median curves\", ylab = \"\", type = 'l', cex.main=1, ylim=c(llim, ulim))\n",
    "# axis(side=1, at=seq(0, 500, 500))\n",
    "\n",
    "# lines(P_g299[5:495, gpca_post_med299], col = \"darkblue\", lwd=2)\n",
    "# lines(P_g500[5:495, gpca_post_med500], col = \"darkorange\", lwd=2)\n",
    "\n",
    "# legend(\"topright\", ex.cs1, cex=1, y.intersp=3.5,legend=c(\"GDPCA lag 299\", \"GDPCA lag 500\", \"SPCA\"), bty=\"n\", \n",
    "#        lty=c(1,1,1),col=c(\"darkblue\", \"darkorange\", \"red\"), inset=c(-0.4, 0), text.font=1, pt.cex=1)\n",
    "# dev.off()"
   ]
  },
  {
   "cell_type": "code",
   "execution_count": 41,
   "metadata": {},
   "outputs": [
    {
     "data": {
      "text/html": [
       "<strong>png:</strong> 2"
      ],
      "text/latex": [
       "\\textbf{png:} 2"
      ],
      "text/markdown": [
       "**png:** 2"
      ],
      "text/plain": [
       "png \n",
       "  2 "
      ]
     },
     "metadata": {},
     "output_type": "display_data"
    }
   ],
   "source": [
    "# png(filename = \"post_medians_lag700_lag999.png\", width=7, height=5, units=\"in\", res=600)\n",
    "\n",
    "# #Extracting the median curve for SPCA periodograms\n",
    "# par(mar=c(6.1, 0.3, 6.1, 10.1), xpd=TRUE)\n",
    "\n",
    "# spca_post_med = spca_fb$medcurve\n",
    "# gpca_post_med700 = fbg_700$medcurve\n",
    "# gpca_post_med999 = fbg_999$medcurve\n",
    "\n",
    "# llim = min(min(P_s[5:495,spca_post_med]), min(P_g700[5:495, gpca_post_med700]), min(P_g999[5:495, gpca_post_med999]))\n",
    "# ulim = max(max(P_s[5:495,spca_post_med]), max(P_g700[5:495, gpca_post_med700]), max(P_g999[5:495, gpca_post_med999]))\n",
    "\n",
    "# plot(P_s[5:495,spca_post_med], xaxt=\"n\", yaxt=\"n\", bty = \"n\", col = \"red\", xlab = \"Hz\",\n",
    "#      lwd = 2, main = \"Median curves\", ylab = \"\", type = 'l', cex.main=1, ylim=c(llim, ulim))\n",
    "# axis(side=1, at=seq(0, 500, 500))\n",
    "\n",
    "# lines(P_g700[5:495, gpca_post_med700], col = \"darkblue\", lwd=2)\n",
    "# lines(P_g999[5:495, gpca_post_med999], col = \"darkorange\", lwd=2)\n",
    "\n",
    "# legend(\"topright\", ex.cs1, cex=1, y.intersp=3.5,legend=c(\"GDPCA lag 700\", \"GDPCA lag 999\", \"SPCA\"), bty=\"n\", \n",
    "#        lty=c(1,1,1),col=c(\"darkblue\", \"darkorange\", \"red\"), inset=c(-0.4, 0), text.font=1, pt.cex=1)\n",
    "# dev.off()"
   ]
  },
  {
   "cell_type": "code",
   "execution_count": 42,
   "metadata": {
    "collapsed": true
   },
   "outputs": [],
   "source": [
    "my_mse = c(mean(as.numeric(mse1)), mean(as.numeric(mse10)), mean(as.numeric(mse15)), \n",
    "           mean(as.numeric(mse20)), mean(as.numeric(mse50)), mean(as.numeric(mse150)),\n",
    "           mean(as.numeric(mse299)), mean(as.numeric(mse500)), mean(as.numeric(mse700)), mean(as.numeric(mse999)))"
   ]
  },
  {
   "cell_type": "code",
   "execution_count": 44,
   "metadata": {},
   "outputs": [
    {
     "data": {
      "text/html": [
       "<strong>png:</strong> 2"
      ],
      "text/latex": [
       "\\textbf{png:} 2"
      ],
      "text/markdown": [
       "**png:** 2"
      ],
      "text/plain": [
       "png \n",
       "  2 "
      ]
     },
     "metadata": {},
     "output_type": "display_data"
    }
   ],
   "source": [
    "# png(filename = \"pre_gdpca_mse.png\", width=5, height=5, units=\"in\", res=600)\n",
    "# plot(my_mse, xaxt=\"n\", yaxt=\"n\", ylab='', type = 'l', bty=\"n\",\n",
    "#      main=\"Average Epoch MSE: GDPCA\", xlab='Lag', col=\"darkblue\")\n",
    "# axis(side=1, at=seq(1, 10, 9), labels = c(1, 999))\n",
    "# dev.off()"
   ]
  },
  {
   "cell_type": "code",
   "execution_count": null,
   "metadata": {
    "collapsed": true
   },
   "outputs": [],
   "source": []
  }
 ],
 "metadata": {
  "kernelspec": {
   "display_name": "R",
   "language": "R",
   "name": "ir"
  },
  "language_info": {
   "codemirror_mode": "r",
   "file_extension": ".r",
   "mimetype": "text/x-r-source",
   "name": "R",
   "pygments_lexer": "r",
   "version": "3.4.1"
  }
 },
 "nbformat": 4,
 "nbformat_minor": 2
}
